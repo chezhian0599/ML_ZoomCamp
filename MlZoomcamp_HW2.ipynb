{
 "cells": [
  {
   "cell_type": "markdown",
   "id": "db8528e2",
   "metadata": {},
   "source": [
    "## Elanchezhian K R"
   ]
  },
  {
   "cell_type": "code",
   "execution_count": 1,
   "id": "e519db6f",
   "metadata": {},
   "outputs": [],
   "source": [
    "import pandas as pd # Importing libraries\n",
    "import numpy as np\n",
    "import seaborn as sns\n",
    "import matplotlib.pyplot as plt\n",
    "%matplotlib inline"
   ]
  },
  {
   "cell_type": "code",
   "execution_count": 2,
   "id": "a54679cb",
   "metadata": {},
   "outputs": [
    {
     "data": {
      "text/html": [
       "<div>\n",
       "<style scoped>\n",
       "    .dataframe tbody tr th:only-of-type {\n",
       "        vertical-align: middle;\n",
       "    }\n",
       "\n",
       "    .dataframe tbody tr th {\n",
       "        vertical-align: top;\n",
       "    }\n",
       "\n",
       "    .dataframe thead th {\n",
       "        text-align: right;\n",
       "    }\n",
       "</style>\n",
       "<table border=\"1\" class=\"dataframe\">\n",
       "  <thead>\n",
       "    <tr style=\"text-align: right;\">\n",
       "      <th></th>\n",
       "      <th>longitude</th>\n",
       "      <th>latitude</th>\n",
       "      <th>housing_median_age</th>\n",
       "      <th>total_rooms</th>\n",
       "      <th>total_bedrooms</th>\n",
       "      <th>population</th>\n",
       "      <th>households</th>\n",
       "      <th>median_income</th>\n",
       "      <th>median_house_value</th>\n",
       "      <th>ocean_proximity</th>\n",
       "    </tr>\n",
       "  </thead>\n",
       "  <tbody>\n",
       "    <tr>\n",
       "      <th>0</th>\n",
       "      <td>-122.23</td>\n",
       "      <td>37.88</td>\n",
       "      <td>41.0</td>\n",
       "      <td>880.0</td>\n",
       "      <td>129.0</td>\n",
       "      <td>322.0</td>\n",
       "      <td>126.0</td>\n",
       "      <td>8.3252</td>\n",
       "      <td>452600.0</td>\n",
       "      <td>NEAR BAY</td>\n",
       "    </tr>\n",
       "    <tr>\n",
       "      <th>1</th>\n",
       "      <td>-122.22</td>\n",
       "      <td>37.86</td>\n",
       "      <td>21.0</td>\n",
       "      <td>7099.0</td>\n",
       "      <td>1106.0</td>\n",
       "      <td>2401.0</td>\n",
       "      <td>1138.0</td>\n",
       "      <td>8.3014</td>\n",
       "      <td>358500.0</td>\n",
       "      <td>NEAR BAY</td>\n",
       "    </tr>\n",
       "    <tr>\n",
       "      <th>2</th>\n",
       "      <td>-122.24</td>\n",
       "      <td>37.85</td>\n",
       "      <td>52.0</td>\n",
       "      <td>1467.0</td>\n",
       "      <td>190.0</td>\n",
       "      <td>496.0</td>\n",
       "      <td>177.0</td>\n",
       "      <td>7.2574</td>\n",
       "      <td>352100.0</td>\n",
       "      <td>NEAR BAY</td>\n",
       "    </tr>\n",
       "    <tr>\n",
       "      <th>3</th>\n",
       "      <td>-122.25</td>\n",
       "      <td>37.85</td>\n",
       "      <td>52.0</td>\n",
       "      <td>1274.0</td>\n",
       "      <td>235.0</td>\n",
       "      <td>558.0</td>\n",
       "      <td>219.0</td>\n",
       "      <td>5.6431</td>\n",
       "      <td>341300.0</td>\n",
       "      <td>NEAR BAY</td>\n",
       "    </tr>\n",
       "    <tr>\n",
       "      <th>4</th>\n",
       "      <td>-122.25</td>\n",
       "      <td>37.85</td>\n",
       "      <td>52.0</td>\n",
       "      <td>1627.0</td>\n",
       "      <td>280.0</td>\n",
       "      <td>565.0</td>\n",
       "      <td>259.0</td>\n",
       "      <td>3.8462</td>\n",
       "      <td>342200.0</td>\n",
       "      <td>NEAR BAY</td>\n",
       "    </tr>\n",
       "  </tbody>\n",
       "</table>\n",
       "</div>"
      ],
      "text/plain": [
       "   longitude  latitude  housing_median_age  total_rooms  total_bedrooms  \\\n",
       "0    -122.23     37.88                41.0        880.0           129.0   \n",
       "1    -122.22     37.86                21.0       7099.0          1106.0   \n",
       "2    -122.24     37.85                52.0       1467.0           190.0   \n",
       "3    -122.25     37.85                52.0       1274.0           235.0   \n",
       "4    -122.25     37.85                52.0       1627.0           280.0   \n",
       "\n",
       "   population  households  median_income  median_house_value ocean_proximity  \n",
       "0       322.0       126.0         8.3252            452600.0        NEAR BAY  \n",
       "1      2401.0      1138.0         8.3014            358500.0        NEAR BAY  \n",
       "2       496.0       177.0         7.2574            352100.0        NEAR BAY  \n",
       "3       558.0       219.0         5.6431            341300.0        NEAR BAY  \n",
       "4       565.0       259.0         3.8462            342200.0        NEAR BAY  "
      ]
     },
     "execution_count": 2,
     "metadata": {},
     "output_type": "execute_result"
    }
   ],
   "source": [
    "# Loading the Dataset\n",
    "df = pd.read_csv('housing.csv')\n",
    "df.head() # to view the first 5 rows of dataset"
   ]
  },
  {
   "cell_type": "code",
   "execution_count": 3,
   "id": "9c6bf94c",
   "metadata": {},
   "outputs": [
    {
     "name": "stdout",
     "output_type": "stream",
     "text": [
      "<class 'pandas.core.frame.DataFrame'>\n",
      "RangeIndex: 20640 entries, 0 to 20639\n",
      "Data columns (total 10 columns):\n",
      " #   Column              Non-Null Count  Dtype  \n",
      "---  ------              --------------  -----  \n",
      " 0   longitude           20640 non-null  float64\n",
      " 1   latitude            20640 non-null  float64\n",
      " 2   housing_median_age  20640 non-null  float64\n",
      " 3   total_rooms         20640 non-null  float64\n",
      " 4   total_bedrooms      20433 non-null  float64\n",
      " 5   population          20640 non-null  float64\n",
      " 6   households          20640 non-null  float64\n",
      " 7   median_income       20640 non-null  float64\n",
      " 8   median_house_value  20640 non-null  float64\n",
      " 9   ocean_proximity     20640 non-null  object \n",
      "dtypes: float64(9), object(1)\n",
      "memory usage: 1.6+ MB\n"
     ]
    }
   ],
   "source": [
    "df.info() # to find the dtypes of features in dataset"
   ]
  },
  {
   "cell_type": "code",
   "execution_count": 4,
   "id": "fffade0a",
   "metadata": {},
   "outputs": [
    {
     "data": {
      "text/plain": [
       "longitude               0\n",
       "latitude                0\n",
       "housing_median_age      0\n",
       "total_rooms             0\n",
       "total_bedrooms        207\n",
       "population              0\n",
       "households              0\n",
       "median_income           0\n",
       "median_house_value      0\n",
       "ocean_proximity         0\n",
       "dtype: int64"
      ]
     },
     "execution_count": 4,
     "metadata": {},
     "output_type": "execute_result"
    }
   ],
   "source": [
    "#checking for missing values\n",
    "df.isna().sum()"
   ]
  },
  {
   "cell_type": "code",
   "execution_count": 5,
   "id": "7bf7fe1f",
   "metadata": {},
   "outputs": [
    {
     "data": {
      "text/plain": [
       "<AxesSubplot:xlabel='median_house_value', ylabel='Count'>"
      ]
     },
     "execution_count": 5,
     "metadata": {},
     "output_type": "execute_result"
    },
    {
     "data": {
      "image/png": "[encoded data removed]",
      "text/plain": [
       "<Figure size 432x288 with 1 Axes>"
      ]
     },
     "metadata": {
      "needs_background": "light"
     },
     "output_type": "display_data"
    }
   ],
   "source": [
    "# Overview of the target variable (median_value_home):\n",
    "sns.histplot(df.median_house_value)"
   ]
  },
  {
   "cell_type": "code",
   "execution_count": 6,
   "id": "74640cc5",
   "metadata": {},
   "outputs": [
    {
     "data": {
      "text/plain": [
       "<AxesSubplot:xlabel='median_house_value', ylabel='Count'>"
      ]
     },
     "execution_count": 6,
     "metadata": {},
     "output_type": "execute_result"
    },
    {
     "data": {
      "image/png": "[encoded data removed]",
      "text/plain": [
       "<Figure size 432x288 with 1 Axes>"
      ]
     },
     "metadata": {
      "needs_background": "light"
     },
     "output_type": "display_data"
    }
   ],
   "source": [
    "sns.histplot(np.log1p(df.median_house_value))"
   ]
  },
  {
   "cell_type": "code",
   "execution_count": 7,
   "id": "abcaf588",
   "metadata": {},
   "outputs": [
    {
     "data": {
      "text/plain": [
       "Index(['longitude', 'latitude', 'housing_median_age', 'total_rooms',\n",
       "       'total_bedrooms', 'population', 'households', 'median_income',\n",
       "       'median_house_value'],\n",
       "      dtype='object')"
      ]
     },
     "metadata": {},
     "output_type": "display_data"
    }
   ],
   "source": [
    "# Preparation and cleaning of the data set\n",
    "\n",
    "df.columns = df.columns.str.lower().str.replace(\" \", \"_\")\n",
    "\n",
    "string_columns = list(df.dtypes[df.dtypes == \"object\"].index)\n",
    "\n",
    "for col in string_columns:\n",
    "    df[col] = df[col].str.lower().str.replace(\" \", \"_\")\n",
    "\n",
    "df = df.drop(columns=[\"ocean_proximity\"])\n",
    "df_init = df.copy()\n",
    "\n",
    "display(df.columns)"
   ]
  },
  {
   "cell_type": "markdown",
   "id": "05d05112",
   "metadata": {},
   "source": [
    "## Question 1:\n",
    "\n",
    "### What feature has missing values? How many missing values does it have?"
   ]
  },
  {
   "cell_type": "code",
   "execution_count": 8,
   "id": "612c90f2",
   "metadata": {},
   "outputs": [
    {
     "data": {
      "text/plain": [
       "longitude               0\n",
       "latitude                0\n",
       "housing_median_age      0\n",
       "total_rooms             0\n",
       "total_bedrooms        207\n",
       "population              0\n",
       "households              0\n",
       "median_income           0\n",
       "median_house_value      0\n",
       "dtype: int64"
      ]
     },
     "execution_count": 8,
     "metadata": {},
     "output_type": "execute_result"
    }
   ],
   "source": [
    "# Exploring the data set for missing values by columns:\n",
    "\n",
    "df.isna().sum()"
   ]
  },
  {
   "cell_type": "code",
   "execution_count": 9,
   "id": "2b88f005",
   "metadata": {},
   "outputs": [
    {
     "name": "stdout",
     "output_type": "stream",
     "text": [
      "Answer to question 1:\n",
      "The number of missing values is: 207\n"
     ]
    }
   ],
   "source": [
    "# only the 'total_bedrooms' column has missing values\n",
    "\n",
    "number_of_missing_values = df.isna().sum().sum()\n",
    "\n",
    "print(f\"Answer to question 1:\")\n",
    "print(f\"The number of missing values is: {number_of_missing_values}\")"
   ]
  },
  {
   "cell_type": "markdown",
   "id": "0cb489c3",
   "metadata": {},
   "source": [
    "## Question 2\n",
    "\n",
    "### What's the median (50% percentile) for variable 'population'?"
   ]
  },
  {
   "cell_type": "code",
   "execution_count": 10,
   "id": "60a60c79",
   "metadata": {},
   "outputs": [
    {
     "name": "stdout",
     "output_type": "stream",
     "text": [
      "Answer to question 2:\n",
      "Median value for population variable = 1166\n"
     ]
    }
   ],
   "source": [
    "# Exploring the data set for median value for population column:\n",
    "\n",
    "median_of_population = df.population.median()\n",
    "\n",
    "print(f\"Answer to question 2:\")\n",
    "print(f\"Median value for population variable = {median_of_population:.0f}\")"
   ]
  },
  {
   "cell_type": "markdown",
   "id": "8e186caa",
   "metadata": {},
   "source": [
    "## Data Split"
   ]
  },
  {
   "cell_type": "code",
   "execution_count": 11,
   "id": "15002593",
   "metadata": {},
   "outputs": [],
   "source": [
    "# shuffle the data:\n",
    "\n",
    "n = len(df)\n",
    "\n",
    "idx = np.arange(n)\n",
    "\n",
    "np.random.seed(42) \n",
    "np.random.shuffle(idx) "
   ]
  },
  {
   "cell_type": "code",
   "execution_count": 12,
   "id": "5e45dc5c",
   "metadata": {},
   "outputs": [
    {
     "data": {
      "text/html": [
       "<div>\n",
       "<style scoped>\n",
       "    .dataframe tbody tr th:only-of-type {\n",
       "        vertical-align: middle;\n",
       "    }\n",
       "\n",
       "    .dataframe tbody tr th {\n",
       "        vertical-align: top;\n",
       "    }\n",
       "\n",
       "    .dataframe thead th {\n",
       "        text-align: right;\n",
       "    }\n",
       "</style>\n",
       "<table border=\"1\" class=\"dataframe\">\n",
       "  <thead>\n",
       "    <tr style=\"text-align: right;\">\n",
       "      <th></th>\n",
       "      <th>longitude</th>\n",
       "      <th>latitude</th>\n",
       "      <th>housing_median_age</th>\n",
       "      <th>total_rooms</th>\n",
       "      <th>total_bedrooms</th>\n",
       "      <th>population</th>\n",
       "      <th>households</th>\n",
       "      <th>median_income</th>\n",
       "      <th>median_house_value</th>\n",
       "    </tr>\n",
       "  </thead>\n",
       "  <tbody>\n",
       "    <tr>\n",
       "      <th>0</th>\n",
       "      <td>-118.19</td>\n",
       "      <td>34.14</td>\n",
       "      <td>38.0</td>\n",
       "      <td>1826.0</td>\n",
       "      <td>300.0</td>\n",
       "      <td>793.0</td>\n",
       "      <td>297.0</td>\n",
       "      <td>5.2962</td>\n",
       "      <td>291500.0</td>\n",
       "    </tr>\n",
       "    <tr>\n",
       "      <th>1</th>\n",
       "      <td>-117.13</td>\n",
       "      <td>32.91</td>\n",
       "      <td>16.0</td>\n",
       "      <td>3230.0</td>\n",
       "      <td>579.0</td>\n",
       "      <td>1825.0</td>\n",
       "      <td>576.0</td>\n",
       "      <td>4.2969</td>\n",
       "      <td>151200.0</td>\n",
       "    </tr>\n",
       "  </tbody>\n",
       "</table>\n",
       "</div>"
      ],
      "text/plain": [
       "   longitude  latitude  housing_median_age  total_rooms  total_bedrooms  \\\n",
       "0    -118.19     34.14                38.0       1826.0           300.0   \n",
       "1    -117.13     32.91                16.0       3230.0           579.0   \n",
       "\n",
       "   population  households  median_income  median_house_value  \n",
       "0       793.0       297.0         5.2962            291500.0  \n",
       "1      1825.0       576.0         4.2969            151200.0  "
      ]
     },
     "metadata": {},
     "output_type": "display_data"
    },
    {
     "data": {
      "text/html": [
       "<div>\n",
       "<style scoped>\n",
       "    .dataframe tbody tr th:only-of-type {\n",
       "        vertical-align: middle;\n",
       "    }\n",
       "\n",
       "    .dataframe tbody tr th {\n",
       "        vertical-align: top;\n",
       "    }\n",
       "\n",
       "    .dataframe thead th {\n",
       "        text-align: right;\n",
       "    }\n",
       "</style>\n",
       "<table border=\"1\" class=\"dataframe\">\n",
       "  <thead>\n",
       "    <tr style=\"text-align: right;\">\n",
       "      <th></th>\n",
       "      <th>longitude</th>\n",
       "      <th>latitude</th>\n",
       "      <th>housing_median_age</th>\n",
       "      <th>total_rooms</th>\n",
       "      <th>total_bedrooms</th>\n",
       "      <th>population</th>\n",
       "      <th>households</th>\n",
       "      <th>median_income</th>\n",
       "      <th>median_house_value</th>\n",
       "    </tr>\n",
       "  </thead>\n",
       "  <tbody>\n",
       "    <tr>\n",
       "      <th>0</th>\n",
       "      <td>-122.23</td>\n",
       "      <td>37.88</td>\n",
       "      <td>41.0</td>\n",
       "      <td>880.0</td>\n",
       "      <td>129.0</td>\n",
       "      <td>322.0</td>\n",
       "      <td>126.0</td>\n",
       "      <td>8.3252</td>\n",
       "      <td>452600.0</td>\n",
       "    </tr>\n",
       "    <tr>\n",
       "      <th>1</th>\n",
       "      <td>-122.22</td>\n",
       "      <td>37.86</td>\n",
       "      <td>21.0</td>\n",
       "      <td>7099.0</td>\n",
       "      <td>1106.0</td>\n",
       "      <td>2401.0</td>\n",
       "      <td>1138.0</td>\n",
       "      <td>8.3014</td>\n",
       "      <td>358500.0</td>\n",
       "    </tr>\n",
       "  </tbody>\n",
       "</table>\n",
       "</div>"
      ],
      "text/plain": [
       "   longitude  latitude  housing_median_age  total_rooms  total_bedrooms  \\\n",
       "0    -122.23     37.88                41.0        880.0           129.0   \n",
       "1    -122.22     37.86                21.0       7099.0          1106.0   \n",
       "\n",
       "   population  households  median_income  median_house_value  \n",
       "0       322.0       126.0         8.3252            452600.0  \n",
       "1      2401.0      1138.0         8.3014            358500.0  "
      ]
     },
     "metadata": {},
     "output_type": "display_data"
    }
   ],
   "source": [
    "# add idx into data:\n",
    "\n",
    "df[\"idx\"] = idx\n",
    "\n",
    "df = df.sort_values(by=\"idx\", ascending=True)\n",
    "df = df.drop(columns=[\"idx\"])\n",
    "df = df.reset_index(drop=True)\n",
    "\n",
    "# check\n",
    "display(df.head(2))\n",
    "display(df_init.head(2))"
   ]
  },
  {
   "cell_type": "code",
   "execution_count": 13,
   "id": "5d2167d2",
   "metadata": {},
   "outputs": [
    {
     "name": "stdout",
     "output_type": "stream",
     "text": [
      "total number of records in dataset = 20640\n",
      "split dataset: \n",
      "\t train = 12384 \n",
      "\t val = 4128 \n",
      "\t test = 4128\n"
     ]
    }
   ],
   "source": [
    "# calculating the number of records in each part:\n",
    "\n",
    "n_val = int(0.2 * n)\n",
    "n_test = int(0.2 * n)\n",
    "n_train = n - (n_val + n_test)\n",
    "\n",
    "print(f\"total number of records in dataset = {n}\")\n",
    "print(f\"split dataset: \\n\\t train = {n_train} \\n\\t val = {n_val} \\n\\t test = {n_test}\")"
   ]
  },
  {
   "cell_type": "code",
   "execution_count": 14,
   "id": "c4068371",
   "metadata": {},
   "outputs": [
    {
     "name": "stdout",
     "output_type": "stream",
     "text": [
      "length of training set = 12384\n",
      "length of validation set = 4128\n",
      "length of test set = 4128\n"
     ]
    }
   ],
   "source": [
    "# splitting the data into training, validation and test sets:\n",
    "\n",
    "df_train = df.iloc[:n_train]\n",
    "df_val = df.iloc[n_train : n_train + n_val]\n",
    "df_test = df.iloc[n_train + n_val :]\n",
    "\n",
    "print(f\"length of training set = {len(df_train)}\")\n",
    "print(f\"length of validation set = {len(df_val)}\")\n",
    "print(f\"length of test set = {len(df_test)}\")"
   ]
  },
  {
   "cell_type": "code",
   "execution_count": 15,
   "id": "2f19e7f5",
   "metadata": {},
   "outputs": [],
   "source": [
    "# log1p transformation to [y] and separating features from the target variable :\n",
    "\n",
    "y_train = np.log1p(np.array(df_train.median_house_value.values))\n",
    "y_val = np.log1p(np.array(df_val.median_house_value.values))\n",
    "y_test = np.log1p(np.array(df_test.median_house_value.values))\n",
    "\n",
    "df_train_f = df_train.drop(columns=[\"median_house_value\"])\n",
    "df_val_f = df_val.drop(columns=[\"median_house_value\"])\n",
    "df_testf_f = df_test.drop(columns=[\"median_house_value\"])"
   ]
  },
  {
   "cell_type": "markdown",
   "id": "530c818c",
   "metadata": {},
   "source": [
    "## Question 3\n",
    "\n",
    "#### I need to fill in missing values in total_bedrooms feature\n",
    "#### I have two options:\n",
    "#### 1. fill it with 0\n",
    "#### 2. fill it with the mean or median of this variable (use only for train dataset)\n",
    "#### I have to use and try out two options and train it a linear regression model without regularization\n",
    "#### I'll use the validation dataset to evaluate the models and compare the RMSE of each option.\n",
    "#### Scores of RSME I'll round to 2 decimal digits using round(score, 2) function preparing a dataset with filled values in total_bedrooms using fillna(0)"
   ]
  },
  {
   "cell_type": "code",
   "execution_count": 16,
   "id": "a4f31cdf",
   "metadata": {},
   "outputs": [],
   "source": [
    "def prepare_X_null(df):\n",
    "    #  function to prepare dataset with 0\n",
    "    df = df.copy()\n",
    "    df = df.fillna(0)\n",
    "    X = df.values\n",
    "    return X\n",
    "\n",
    "\n",
    "def prepare_X_mean(df):\n",
    "    # function to prepare dataset with mean\n",
    "    df = df.copy()\n",
    "    mean = df.total_bedrooms.mean()\n",
    "    df.total_bedrooms = df.total_bedrooms.fillna(mean)\n",
    "    X = df.values\n",
    "    return X\n",
    "\n",
    "\n",
    "def prepare_X_median(df):\n",
    "    # function to prepare dataset with median\n",
    "    df = df.copy()\n",
    "    median = df.total_bedrooms.median()\n",
    "    df.total_bedrooms = df.total_bedrooms.fillna(median)\n",
    "    X = df.values\n",
    "    return X"
   ]
  },
  {
   "cell_type": "code",
   "execution_count": 18,
   "id": "e6ff933d",
   "metadata": {},
   "outputs": [
    {
     "name": "stdout",
     "output_type": "stream",
     "text": [
      "RMSE score for option_null = 0.34\n",
      "RMSE score for option_mean = 0.34\n",
      "RMSE score for option_median = 0.34\n",
      "\n",
      "Answer to question 3:\n",
      "The scores of all options are the same\n"
     ]
    }
   ],
   "source": [
    "def train_linear_regression(x_train, y_train):\n",
    "    # function to train the Linear Regression model\n",
    "    ones = np.ones(x_train.shape[0])\n",
    "    x_train = np.column_stack([ones, x_train])\n",
    "\n",
    "    XTX = x_train.T.dot(x_train)\n",
    "    XTX_inv = np.linalg.inv(XTX)\n",
    "\n",
    "    w_full = XTX_inv.dot(x_train.T).dot(y_train)\n",
    "    w0 = w_full[0]\n",
    "    w = w_full[1:]\n",
    "\n",
    "    return w0, w\n",
    "\n",
    "\n",
    "def predict_linear_regression(x_val, w0, w_array):\n",
    "    # function for marking predictions:\n",
    "    y_pred = w0 + x_val.dot(w_array)\n",
    "    return y_pred\n",
    "\n",
    "\n",
    "def rmse(y_pred, y_val):\n",
    "    # function to calculate RMSE:\n",
    "    SE = (y_pred - y_val) ** 2\n",
    "    MSE = SE.mean()\n",
    "    RMSE = np.sqrt(MSE)\n",
    "    return RMSE\n",
    "\n",
    "x_train_0 = prepare_X_null(df_train_f)\n",
    "x_train_mean = prepare_X_mean(df_train_f)\n",
    "x_train_median = prepare_X_median(df_train_f)\n",
    "\n",
    "\n",
    "x_null_val = prepare_X_null(df_val_f)\n",
    "x_mean_val = prepare_X_mean(df_val_f)\n",
    "x_median_val = prepare_X_median(df_val_f)\n",
    "\n",
    "\n",
    "w0_null, w_null = train_linear_regression(x_train_0, y_train)\n",
    "w0_mean, w_mean = train_linear_regression(x_train_mean, y_train)\n",
    "w0_median, w_median = train_linear_regression(x_train_median, y_train)\n",
    "\n",
    "\n",
    "y_null_pred = predict_linear_regression(x_null_val, w0_null, w_null)\n",
    "y_mean_pred = predict_linear_regression(x_mean_val, w0_mean, w_mean)\n",
    "y_median_pred = predict_linear_regression(x_median_val, w0_median, w_median)\n",
    "\n",
    "\n",
    "rmse_option_null = rmse(y_null_pred, y_val)\n",
    "rmse_option_mean = rmse(y_mean_pred, y_val)\n",
    "rmse_option_median = rmse(y_median_pred, y_val)\n",
    "\n",
    "\n",
    "print(f\"RMSE score for option_null = {round(rmse_option_null, 2)}\")\n",
    "print(f\"RMSE score for option_mean = {round(rmse_option_mean, 2)}\")\n",
    "print(f\"RMSE score for option_median = {round(rmse_option_median, 2)}\")\n",
    "\n",
    "print(f\"\\nAnswer to question 3:\")\n",
    "print(f\"The scores of all options are the same\")"
   ]
  },
  {
   "cell_type": "markdown",
   "id": "cd859155",
   "metadata": {},
   "source": [
    "## Question 4\n",
    "### I need to train a regular linear regression.\n",
    "### Assumptions:\n",
    "### Fill in the NAs with the value 0.\n",
    "### Try different values of r from this list: [0, 0.000001, 0.0001, 0.001, 0.01, 0.1, 1, 5, 10].\n",
    "### Use RMSE to evaluate the model on the validation dataset.\n",
    "### Round the RMSE results to 2 digits after the decimal point."
   ]
  },
  {
   "cell_type": "code",
   "execution_count": 19,
   "id": "99a5d6db",
   "metadata": {},
   "outputs": [
    {
     "name": "stdout",
     "output_type": "stream",
     "text": [
      "For r =       0 RMSE_score = 0.34\n",
      "For r =   1e-06 RMSE_score = 0.34\n",
      "For r =  0.0001 RMSE_score = 0.34\n",
      "For r =   0.001 RMSE_score = 0.34\n",
      "For r =    0.01 RMSE_score = 0.34\n",
      "For r =     0.1 RMSE_score = 0.34\n",
      "For r =       1 RMSE_score = 0.34\n",
      "For r =       5 RMSE_score = 0.35\n",
      "For r =      10 RMSE_score = 0.35\n",
      "\n",
      "Answer to question 4:\n",
      "\tRegularization does not give evident results. \n",
      "\tThe smallest r with the same RMSE is 0\n"
     ]
    }
   ],
   "source": [
    "def train_linear_regression_reg(x_train, y_train, r=0):\n",
    "    # function for Linear Regression model training with Regularization\n",
    "    ones = np.ones(x_train.shape[0])\n",
    "    x_train = np.column_stack([ones, x_train])\n",
    "\n",
    "    XTX = x_train.T.dot(x_train)\n",
    "    reg = r * np.eye(XTX.shape[0])\n",
    "    XTX = XTX + reg\n",
    "\n",
    "    XTX_inv = np.linalg.inv(XTX)\n",
    "\n",
    "    w_full = XTX_inv.dot(x_train.T).dot(y_train)\n",
    "\n",
    "    w0 = w_full[0]\n",
    "    w = w_full[1:]\n",
    "\n",
    "    return w0, w\n",
    "\n",
    "\n",
    "r_list = [0, 0.000001, 0.0001, 0.001, 0.01, 0.1, 1, 5, 10]\n",
    "\n",
    "x_train = prepare_X_null(df_train_f)\n",
    "x_val = prepare_X_null(df_val_f)\n",
    "\n",
    "for r in r_list:\n",
    "\n",
    "    w0, w = train_linear_regression_reg(x_train, y_train, r=r)\n",
    "    y_pred = predict_linear_regression(x_val, w0, w)\n",
    "\n",
    "    rmse_score = rmse(y_val, y_pred)\n",
    "    print(f\"For r = {r:>7} RMSE_score = {round(rmse_score, 2)}\")\n",
    "\n",
    "print(f\"\\nAnswer to question 4:\")\n",
    "print(\n",
    "    f\"\\tRegularization does not give evident results. \\n\\tThe smallest r with the same RMSE is 0\"\n",
    ")"
   ]
  },
  {
   "cell_type": "markdown",
   "id": "b7a2e8c9",
   "metadata": {},
   "source": [
    "## Question 5"
   ]
  },
  {
   "cell_type": "code",
   "execution_count": 20,
   "id": "07b20fa6",
   "metadata": {},
   "outputs": [
    {
     "name": "stdout",
     "output_type": "stream",
     "text": [
      "For Seed = 0, RMSE = 0.33657247719549266\n",
      "For Seed = 1, RMSE = 0.3384915167197722\n",
      "For Seed = 2, RMSE = 0.3418221508298331\n",
      "For Seed = 3, RMSE = 0.33944045455454047\n",
      "For Seed = 4, RMSE = 0.33612008008959227\n",
      "For Seed = 5, RMSE = 0.3392376355770182\n",
      "For Seed = 6, RMSE = 0.35189733420182595\n",
      "For Seed = 7, RMSE = 0.3486368768399247\n",
      "For Seed = 8, RMSE = 0.34355356916726465\n",
      "For Seed = 9, RMSE = 0.33846087438085676\n"
     ]
    }
   ],
   "source": [
    "def rmse_random_seed(df, random_seed):\n",
    "\n",
    "    df = df.copy()\n",
    "    n = len(df)\n",
    "    idx = np.arange(n)\n",
    "    np.random.seed(random_seed)\n",
    "    np.random.shuffle(idx)\n",
    "\n",
    "    df[\"idx\"] = idx\n",
    "    df = df.sort_values(by=\"idx\", ascending=True)\n",
    "    df = df.drop(columns=[\"idx\"])\n",
    "    df = df.reset_index(drop=True)\n",
    "\n",
    "    n_val = int(0.2 * n)\n",
    "    n_test = int(0.2 * n)\n",
    "    n_train = n - (n_val + n_test)\n",
    "    df_train = df.iloc[:n_train]\n",
    "    df_val = df.iloc[n_train : n_train + n_val]\n",
    "    df_test = df.iloc[n_train + n_val :]\n",
    "\n",
    "    y_train = np.log1p(np.array(df_train.median_house_value.values))\n",
    "    y_val = np.log1p(np.array(df_val.median_house_value.values))\n",
    "\n",
    "    df_train_f = df_train.drop(columns=[\"median_house_value\"])\n",
    "    df_val_f = df_val.drop(columns=[\"median_house_value\"])\n",
    "\n",
    "    x_train = prepare_X_null(df_train_f)\n",
    "    w0, w = train_linear_regression(x_train, y_train)\n",
    "    \n",
    "    x_val = prepare_X_null(df_val_f)\n",
    "    y_pred = predict_linear_regression(x_val, w0, w)\n",
    "    \n",
    "    rmse_score = rmse(y_pred, y_val)\n",
    "    return rmse_score\n",
    "\n",
    "\n",
    "rmse_scores_list = []\n",
    "s = [0, 1, 2, 3, 4, 5, 6, 7, 8, 9]\n",
    "\n",
    "for seed in s:\n",
    "    rmse_score = rmse_random_seed(df_init, seed)\n",
    "    rmse_scores_list.append(rmse_score)\n",
    "\n",
    "    print(f\"For Seed = {seed}, RMSE = {rmse_score}\")"
   ]
  },
  {
   "cell_type": "code",
   "execution_count": 24,
   "id": "63b9cab2",
   "metadata": {},
   "outputs": [
    {
     "name": "stdout",
     "output_type": "stream",
     "text": [
      "\n",
      "Answer to question 5:\n",
      "Result of standard deviation of all rmse score = 0.005\n"
     ]
    }
   ],
   "source": [
    "# calculating the standard deviation of rmse results for different data splits:\n",
    "\n",
    "standard_deviation = round(np.std(rmse_scores_list), 3)\n",
    "\n",
    "print(f\"\\nAnswer to question 5:\")\n",
    "print(f\"Result of standard deviation of all rmse score = {standard_deviation}\")"
   ]
  },
  {
   "cell_type": "markdown",
   "id": "d8970a23",
   "metadata": {},
   "source": [
    "# Question 6"
   ]
  },
  {
   "cell_type": "code",
   "execution_count": 23,
   "id": "ac99c226",
   "metadata": {},
   "outputs": [
    {
     "name": "stdout",
     "output_type": "stream",
     "text": [
      "\n",
      "Answer to question 6:\n",
      "RMSE on combine dataset = 0.33\n"
     ]
    }
   ],
   "source": [
    "df = df.copy()\n",
    "n = len(df)\n",
    "idx = np.arange(n)\n",
    "np.random.seed(9)\n",
    "np.random.shuffle(idx)\n",
    "\n",
    "df[\"idx\"] = idx\n",
    "df = df.sort_values(by=\"idx\", ascending=True)\n",
    "df = df.drop(columns=[\"idx\"])\n",
    "df = df.reset_index(drop=True)\n",
    "\n",
    "n_val = int(0.2 * n)\n",
    "n_test = int(0.2 * n)\n",
    "n_train = n - (n_val + n_test)\n",
    "df_train = df.iloc[:n_train]\n",
    "df_val = df.iloc[n_train : n_train + n_val]\n",
    "df_test = df.iloc[n_train + n_val :]\n",
    "\n",
    "\n",
    "y_train = np.log1p(np.array(df_train.median_house_value.values))\n",
    "y_val = np.log1p(np.array(df_val.median_house_value.values))\n",
    "y_test = np.log1p(np.array(df_test.median_house_value.values))\n",
    "\n",
    "df_train_f = df_train.drop(columns=[\"median_house_value\"])\n",
    "df_val_f = df_val.drop(columns=[\"median_house_value\"])\n",
    "df_test_f = df_test.drop(columns=[\"median_house_value\"])\n",
    "\n",
    "\n",
    "df_train_val = pd.concat([df_train_f, df_val_f])\n",
    "y_train_val = np.concatenate([y_train, y_val])\n",
    "\n",
    "x_train_val = prepare_X_null(df_train_val)\n",
    "w0, w = train_linear_regression_reg(x_train_val, y_train_val, r=0.001)\n",
    "\n",
    "x_test = prepare_X_null(df_test_f)\n",
    "y_pred = predict_linear_regression(x_test, w0, w)\n",
    "\n",
    "rmse_score = rmse(y_pred, y_test)\n",
    "\n",
    "print(f\"\\nAnswer to question 6:\")\n",
    "print(f\"RMSE on combine dataset = {round(rmse_score, 2)}\")"
   ]
  },
  {
   "cell_type": "code",
   "execution_count": null,
   "id": "cc7d729f",
   "metadata": {},
   "outputs": [],
   "source": []
  },
  {
   "cell_type": "code",
   "execution_count": null,
   "id": "04b2166d",
   "metadata": {},
   "outputs": [],
   "source": []
  },
  {
   "cell_type": "code",
   "execution_count": null,
   "id": "32eb2052",
   "metadata": {},
   "outputs": [],
   "source": []
  },
  {
   "cell_type": "code",
   "execution_count": null,
   "id": "03939fb3",
   "metadata": {},
   "outputs": [],
   "source": []
  },
  {
   "cell_type": "code",
   "execution_count": null,
   "id": "6b8580a9",
   "metadata": {},
   "outputs": [],
   "source": [
    "\n"
   ]
  }
 ],
 "metadata": {
  "kernelspec": {
   "display_name": "Python 3 (ipykernel)",
   "language": "python",
   "name": "python3"
  },
  "language_info": {
   "codemirror_mode": {
    "name": "ipython",
    "version": 3
   },
   "file_extension": ".py",
   "mimetype": "text/x-python",
   "name": "python",
   "nbconvert_exporter": "python",
   "pygments_lexer": "ipython3",
   "version": "3.9.12"
  }
 },
 "nbformat": 4,
 "nbformat_minor": 5
}
